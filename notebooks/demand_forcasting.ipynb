{
 "cells": [
  {
   "cell_type": "code",
   "execution_count": 11,
   "id": "ed6480fd",
   "metadata": {},
   "outputs": [
    {
     "name": "stderr",
     "output_type": "stream",
     "text": [
      "09:51:51 - cmdstanpy - INFO - Chain [1] start processing\n",
      "09:51:51 - cmdstanpy - INFO - Chain [1] done processing\n"
     ]
    },
    {
     "name": "stdout",
     "output_type": "stream",
     "text": [
      "🎯 Excel formatting applied. File ready at: data/output_forecast.xlsx\n"
     ]
    }
   ],
   "source": [
    "import pandas as pd\n",
    "from prophet import Prophet\n",
    "from openpyxl import load_workbook\n",
    "from openpyxl.styles import Font, PatternFill\n",
    "from openpyxl.formatting.rule import CellIsRule\n",
    "\n",
    "import sys\n",
    "import os\n",
    "\n",
    "sys.path.append(os.path.abspath(\"..\"))\n",
    "from src.alert_generator import generate_stock_alerts\n",
    "from src.data_loader import load_inventory_data\n",
    "\n",
    "# Load data\n",
    "df = load_inventory_data(\"../data/retail_store_inventory_data.xlsx\")\n",
    "\n",
    "# Forecast demand for a specific product/store\n",
    "product_id = \"P0019\"\n",
    "store_id = \"S005\"\n",
    "filtered = df[(df[\"Product ID\"] == product_id) & (df[\"Store ID\"] == store_id)][[\"Date\", \"Units Sold\"]]\n",
    "filtered = filtered.rename(columns={\"Date\": \"ds\", \"Units Sold\": \"y\"})\n",
    "\n",
    "# Train Prophet model\n",
    "model = Prophet()\n",
    "model.fit(filtered)\n",
    "\n",
    "# Make future predictions (14 days ahead)\n",
    "future = model.make_future_dataframe(periods=14)\n",
    "forecast = model.predict(future)[[\"ds\", \"yhat\", \"yhat_lower\", \"yhat_upper\"]]\n",
    "\n",
    "# Save forecasts and alerts to Excel first\n",
    "with pd.ExcelWriter(\"../data/output_forecast.xlsx\", engine=\"openpyxl\") as writer:\n",
    "    forecast.to_excel(writer, sheet_name=\"Forecast\", index=False)\n",
    "    alerts_df = generate_stock_alerts(df)\n",
    "    alerts_df.to_excel(writer, sheet_name=\"LowStockAlerts\", index=False)\n",
    "\n",
    "# Load workbook to apply formatting\n",
    "wb = load_workbook(\"../data/output_forecast.xlsx\")\n",
    "\n",
    "# Format 'Forecast' sheet\n",
    "ws_forecast = wb[\"Forecast\"]\n",
    "header_font = Font(bold=True)\n",
    "for cell in ws_forecast[1]:\n",
    "    cell.font = header_font\n",
    "\n",
    "# Format 'LowStockAlerts' sheet\n",
    "ws_alerts = wb[\"LowStockAlerts\"]\n",
    "for cell in ws_alerts[1]:\n",
    "    cell.font = header_font\n",
    "\n",
    "# Apply conditional formatting: highlight Inventory Level < 20 in red fill\n",
    "red_fill = PatternFill(start_color=\"FFC7CE\", end_color=\"FFC7CE\", fill_type=\"solid\")\n",
    "ws_alerts.conditional_formatting.add(\n",
    "    \"C2:C100\",  # Inventory Level column (assumes <100 rows)\n",
    "    CellIsRule(operator=\"lessThan\", formula=[\"20\"], fill=red_fill)\n",
    ")\n",
    "\n",
    "# Auto column width\n",
    "for sheet in [ws_forecast, ws_alerts]:\n",
    "    for col in sheet.columns:\n",
    "        max_length = max(len(str(cell.value)) if cell.value is not None else 0 for cell in col)\n",
    "        sheet.column_dimensions[col[0].column_letter].width = max_length + 2\n",
    "\n",
    "# Save formatted workbook\n",
    "wb.save(\"../data/output_forecast.xlsx\")\n",
    "print(\"🎯 Excel formatting applied. File ready at: data/output_forecast.xlsx\")"
   ]
  },
  {
   "cell_type": "code",
   "execution_count": 12,
   "id": "68417f12",
   "metadata": {},
   "outputs": [
    {
     "name": "stdout",
     "output_type": "stream",
     "text": [
      "📈 Line chart added to Forecast sheet.\n"
     ]
    }
   ],
   "source": [
    "from openpyxl.chart import LineChart, Reference\n",
    "\n",
    "# Reopen workbook\n",
    "wb = load_workbook(\"../data/output_forecast.xlsx\")\n",
    "ws = wb[\"Forecast\"]\n",
    "\n",
    "# Create line chart\n",
    "chart = LineChart()\n",
    "chart.title = \"Forecasted Demand\"\n",
    "chart.y_axis.title = \"Predicted Units Sold\"\n",
    "chart.x_axis.title = \"Date\"\n",
    "\n",
    "# Set data range (yhat values)\n",
    "data = Reference(ws, min_col=2, min_row=1, max_row=ws.max_row)  # yhat\n",
    "cats = Reference(ws, min_col=1, min_row=2, max_row=ws.max_row)  # ds (dates)\n",
    "chart.add_data(data, titles_from_data=True)\n",
    "chart.set_categories(cats)\n",
    "\n",
    "# Add chart to sheet\n",
    "ws.add_chart(chart, \"E2\")\n",
    "\n",
    "# Save with chart\n",
    "wb.save(\"../data/output_forecast.xlsx\")\n",
    "print(\"📈 Line chart added to Forecast sheet.\")"
   ]
  },
  {
   "cell_type": "code",
   "execution_count": null,
   "id": "f5073768",
   "metadata": {},
   "outputs": [],
   "source": []
  }
 ],
 "metadata": {
  "kernelspec": {
   "display_name": "venv",
   "language": "python",
   "name": "python3"
  },
  "language_info": {
   "codemirror_mode": {
    "name": "ipython",
    "version": 3
   },
   "file_extension": ".py",
   "mimetype": "text/x-python",
   "name": "python",
   "nbconvert_exporter": "python",
   "pygments_lexer": "ipython3",
   "version": "3.12.2"
  }
 },
 "nbformat": 4,
 "nbformat_minor": 5
}
